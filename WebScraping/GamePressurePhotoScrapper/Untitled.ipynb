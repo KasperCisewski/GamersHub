{
 "cells": [
  {
   "cell_type": "code",
   "execution_count": 1,
   "metadata": {},
   "outputs": [],
   "source": [
    "import time\n",
    "from selenium import webdriver\n",
    "from selenium.webdriver.common.by import By\n",
    "from selenium.webdriver.common.keys import Keys\n",
    "from selenium.webdriver.support.ui import WebDriverWait\n",
    "from selenium.webdriver.support import expected_conditions as EC\n",
    "import pandas\n",
    "\n",
    "DRIVER_PATH = r'C:\\Users\\Lenovo\\Desktop\\PhotosScrapper\\chromedriver.exe'"
   ]
  },
  {
   "cell_type": "code",
   "execution_count": 2,
   "metadata": {},
   "outputs": [],
   "source": [
    "import pandas as pd\n",
    "games = pd.read_csv(r'C:\\Users\\Lenovo\\Desktop\\GIT\\GamersHub\\WebScraping\\export_dataframe.csv',sep=';')\n",
    "game_title = []\n",
    "game_href = []\n",
    "//*[@id=\"rg_s\"]/div[1]"
   ]
  },
  {
   "cell_type": "code",
   "execution_count": null,
   "metadata": {},
   "outputs": [],
   "source": [
    "def get_yt(game):\n",
    "    driver = webdriver.Chrome(DRIVER_PATH)\n",
    "    #driver.maximize_window()\n",
    "\n",
    "    #wait = WebDriverWait(driver, 3)\n",
    "    presence = EC.presence_of_element_located\n",
    "    visible = EC.visibility_of_element_located\n",
    "    video=game\n",
    "    # Navigate to url with video being appended to search_query\n",
    "    driver.get(\"https://www.bing.com/images/search?q=\" + str(video))\n",
    "\n",
    "    #wait.until(visible((By.ID, \"video-title\")))\n",
    "    elem = driver.find_element_by_id(\"video-title\")\n",
    "    href= elem.get_attribute('href')\n",
    "    title = elem.get_attribute('title')\n",
    "    game_title.append(title)\n",
    "    print(title)\n",
    "    game_href.append(href)\n",
    "    print(href)\n",
    "    \n",
    "    driver.close()"
   ]
  }
 ],
 "metadata": {
  "kernelspec": {
   "display_name": "Python 3",
   "language": "python",
   "name": "python3"
  },
  "language_info": {
   "codemirror_mode": {
    "name": "ipython",
    "version": 3
   },
   "file_extension": ".py",
   "mimetype": "text/x-python",
   "name": "python",
   "nbconvert_exporter": "python",
   "pygments_lexer": "ipython3",
   "version": "3.7.3"
  }
 },
 "nbformat": 4,
 "nbformat_minor": 2
}
