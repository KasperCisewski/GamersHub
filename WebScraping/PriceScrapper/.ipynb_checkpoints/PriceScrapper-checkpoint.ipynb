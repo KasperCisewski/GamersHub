{
 "cells": [
  {
   "cell_type": "code",
   "execution_count": 6,
   "metadata": {},
   "outputs": [],
   "source": [
    "import time\n",
    "from selenium import webdriver\n",
    "from selenium.webdriver.common.by import By\n",
    "from selenium.webdriver.common.keys import Keys\n",
    "from selenium.webdriver.support.ui import WebDriverWait\n",
    "from selenium.webdriver.support import expected_conditions as EC\n",
    "from selenium.webdriver.common.keys import Keys\n",
    "import pandas\n",
    "\n",
    "DRIVER_PATH = r'C:\\Users\\Lenovo\\Desktop\\PhotosScrapper\\chromedriver.exe'"
   ]
  },
  {
   "cell_type": "code",
   "execution_count": 3,
   "metadata": {},
   "outputs": [],
   "source": [
    "import pandas as pd\n",
    "games = pd.read_csv(r'C:\\Users\\Lenovo\\Desktop\\GIT\\GamersHub\\WebScraping\\export_dataframe2.csv',sep=';')\n",
    "game_title = []\n",
    "game_href = []"
   ]
  },
  {
   "cell_type": "code",
   "execution_count": 11,
   "metadata": {},
   "outputs": [
    {
     "ename": "SyntaxError",
     "evalue": "invalid syntax (<ipython-input-11-c4e6277e7d8b>, line 9)",
     "output_type": "error",
     "traceback": [
      "\u001b[1;36m  File \u001b[1;32m\"<ipython-input-11-c4e6277e7d8b>\"\u001b[1;36m, line \u001b[1;32m9\u001b[0m\n\u001b[1;33m    body > div.page-body > header > div > div > div.header-search > form > div > div > div > div:nth-child(2) > a:nth-child(2)\u001b[0m\n\u001b[1;37m                                                                                                                 ^\u001b[0m\n\u001b[1;31mSyntaxError\u001b[0m\u001b[1;31m:\u001b[0m invalid syntax\n"
     ]
    }
   ],
   "source": [
    "def get_yt(game=''):\n",
    "    driver = webdriver.Chrome(DRIVER_PATH)\n",
    "\n",
    "    presence = EC.presence_of_element_located\n",
    "    visible = EC.visibility_of_element_located\n",
    "    video=game\n",
    "    # Navigate to url with video being appended to search_query\n",
    "    driver.get(\"https://www.ceneo.pl\")\n",
    "body > div.page-body > header > div > div > div.header-search > form > div > div > div > div:nth-child(2) > a:nth-child(2)\n",
    "    #wait.until(visible((By.ID, \"video-title\")))\n",
    "    elem = driver.find_element_by_name(\"search-query\").send_keys(\"Cyberpunk\")\n",
    "    wait = WebDriverWait(driver, 10)\n",
    "    suggestion = driver.find_element_by_class_name(\"suggester__col js_suggester_section\")\n",
    "    href= suggestion.find_element_by_id('a')\n",
    "    print(href)\n",
    "    #driver.close()\n",
    "get_yt()"
   ]
  },
  {
   "cell_type": "code",
   "execution_count": null,
   "metadata": {},
   "outputs": [],
   "source": [
    "for name in games['Titile']:\n",
    "    name = name + \" gameplay official\"\n",
    "    get_yt(name)\n",
    "    \n",
    "games_yt = pd.DataFrame(\n",
    "   {'Title': game_title,\n",
    "    'Href': game_href,\n",
    "   })\n",
    "print(games_yt)\n",
    "export_csv = games_yt.to_csv(r'export_youtube_links.csv', sep=',')"
   ]
  }
 ],
 "metadata": {
  "kernelspec": {
   "display_name": "Python 3",
   "language": "python",
   "name": "python3"
  },
  "language_info": {
   "codemirror_mode": {
    "name": "ipython",
    "version": 3
   },
   "file_extension": ".py",
   "mimetype": "text/x-python",
   "name": "python",
   "nbconvert_exporter": "python",
   "pygments_lexer": "ipython3",
   "version": "3.7.3"
  }
 },
 "nbformat": 4,
 "nbformat_minor": 2
}
