{
 "cells": [
  {
   "cell_type": "code",
   "execution_count": 1,
   "metadata": {},
   "outputs": [],
   "source": [
    "import pickle as pkl\n",
    "import numpy as np"
   ]
  },
  {
   "cell_type": "code",
   "execution_count": 2,
   "metadata": {},
   "outputs": [],
   "source": [
    "## Start Reco From Here\n",
    "with open('actual_cosine_distspickle.pkl', 'rb') as file:\n",
    "    actual_cosine_dists = pkl.load(file)\n",
    "with open('vader_cosine_distspickle.pkl', 'rb') as file:\n",
    "    vader_cosine_dists = pkl.load(file)"
   ]
  },
  {
   "cell_type": "markdown",
   "metadata": {
    "ExecuteTime": {
     "end_time": "2018-09-19T00:15:24.276689Z",
     "start_time": "2018-09-19T00:15:24.265253Z"
    }
   },
   "source": [
    "**Setting up recommender based on actual user scores**"
   ]
  },
  {
   "cell_type": "code",
   "execution_count": 3,
   "metadata": {
    "ExecuteTime": {
     "end_time": "2018-09-15T18:52:49.537270Z",
     "start_time": "2018-09-15T18:52:49.512157Z"
    }
   },
   "outputs": [],
   "source": [
    "def get_similar_games_actual(games_list, n=100):\n",
    "    \n",
    "    games = [game for game in games_list if game in actual_cosine_dists.columns]\n",
    "    games_summed = actual_cosine_dists[games_list].apply(lambda row: np.sum(row), axis=1)\n",
    "    games_summed = games_summed.sort_values(ascending=False)\n",
    "    \n",
    "    ranked_games = games_summed.index[games_summed.isin(games_list)==False]\n",
    "    ranked_games = ranked_games.tolist()\n",
    "    \n",
    "    for g in games_list:\n",
    "        ranked_games.remove(g)\n",
    "    \n",
    "    if n is None:\n",
    "        return ranked_games\n",
    "    else:\n",
    "        return ranked_games[:n]"
   ]
  },
  {
   "cell_type": "markdown",
   "metadata": {},
   "source": [
    "**Setting up recommender based on Vadersentiment scores**"
   ]
  },
  {
   "cell_type": "code",
   "execution_count": 4,
   "metadata": {
    "ExecuteTime": {
     "end_time": "2018-09-15T18:53:19.266942Z",
     "start_time": "2018-09-15T18:53:19.252122Z"
    }
   },
   "outputs": [],
   "source": [
    "def get_similar_games_vader(games_list, n=100):\n",
    "    \n",
    "    games = [game for game in games_list if game in vader_cosine_dists.columns]\n",
    "    games_summed = vader_cosine_dists[games_list].apply(lambda row: np.sum(row), axis=1)\n",
    "    games_summed = games_summed.sort_values(ascending=False)\n",
    "    \n",
    "    ranked_games = games_summed.index[games_summed.isin(games_list)==False]\n",
    "    ranked_games = ranked_games.tolist()\n",
    "    \n",
    "    for g in games_list:\n",
    "        ranked_games.remove(g)\n",
    "    \n",
    "    if n is None:\n",
    "        return ranked_games\n",
    "    else:\n",
    "        return ranked_games[:n]"
   ]
  },
  {
   "cell_type": "markdown",
   "metadata": {},
   "source": [
    "# Build the final item-item recommender by finding overlapping game recommendations between Vader and User scores."
   ]
  },
  {
   "cell_type": "code",
   "execution_count": 6,
   "metadata": {
    "ExecuteTime": {
     "end_time": "2018-09-19T02:01:38.362251Z",
     "start_time": "2018-09-19T02:01:38.357062Z"
    }
   },
   "outputs": [],
   "source": [
    "def sentiment_game_recommender(user_list, vader_list, n):\n",
    "    vader_dict = dict(vader_list)\n",
    "    final_recommendations = []\n",
    "    \n",
    "    for game in user_list: #we want to iterate through the userscore list to preserve actual userscore ranking\n",
    "        if game[0] in vader_dict:\n",
    "            if game[1] == vader_dict[game[0]]:\n",
    "                final_recommendations.append(game)\n",
    "            else:\n",
    "                continue\n",
    "        else:\n",
    "            continue\n",
    "            \n",
    "    return final_recommendations[0:n]"
   ]
  },
  {
   "cell_type": "code",
   "execution_count": 8,
   "metadata": {},
   "outputs": [
    {
     "name": "stdout",
     "output_type": "stream",
     "text": [
      "LEGO Marvel Super Heroes\n",
      "Mega Man Legacy Collection\n",
      "BROFORCE\n",
      "Madden NFL 18\n",
      "The Banner Saga 2\n",
      "Redout\n",
      "Minit\n",
      "Chime Sharp\n",
      "Bloodstained: Curse of the Moon\n",
      "Sniper Elite 4\n"
     ]
    }
   ],
   "source": [
    "games_i_like = [(\"Titanfall 2\", 'PC')]\n",
    "\n",
    "user_score_recommendations = get_similar_games_actual(games_i_like)\n",
    "vader_score_recommendations = get_similar_games_vader(games_i_like)\n",
    "\n",
    "for i, game in enumerate(sentiment_game_recommender(user_score_recommendations, vader_score_recommendations, 10)):\n",
    "    print(game[0])\n"
   ]
  }
 ],
 "metadata": {
  "kernelspec": {
   "display_name": "Python 3",
   "language": "python",
   "name": "python3"
  },
  "language_info": {
   "codemirror_mode": {
    "name": "ipython",
    "version": 3
   },
   "file_extension": ".py",
   "mimetype": "text/x-python",
   "name": "python",
   "nbconvert_exporter": "python",
   "pygments_lexer": "ipython3",
   "version": "3.7.3"
  }
 },
 "nbformat": 4,
 "nbformat_minor": 2
}
