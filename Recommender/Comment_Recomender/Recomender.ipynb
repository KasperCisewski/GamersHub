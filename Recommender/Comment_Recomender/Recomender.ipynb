{
 "cells": [
  {
   "cell_type": "code",
   "execution_count": 44,
   "metadata": {},
   "outputs": [],
   "source": [
    "import pandas as pd\n",
    "import pickle as pkl\n",
    "from sklearn.neighbors import NearestNeighbors\n",
    "from sklearn.decomposition import TruncatedSVD, NMF, LatentDirichletAllocation\n",
    "from sklearn.feature_extraction.text import CountVectorizer, TfidfVectorizer"
   ]
  },
  {
   "cell_type": "code",
   "execution_count": 13,
   "metadata": {},
   "outputs": [],
   "source": [
    "with open('game_id_df.pkl', 'rb') as file:\n",
    "    game_id_df = pkl.load(file)\n",
    "with open('train_data_reviews.pkl', 'rb') as file2:\n",
    "    train_data_reviews = pkl.load(file2)    "
   ]
  },
  {
   "cell_type": "code",
   "execution_count": 14,
   "metadata": {},
   "outputs": [],
   "source": [
    "n_comp = 20\n",
    "lsa = TruncatedSVD(n_components=n_comp)\n"
   ]
  },
  {
   "cell_type": "code",
   "execution_count": 15,
   "metadata": {},
   "outputs": [],
   "source": [
    "tfidf_vectorizer = TfidfVectorizer(ngram_range=(1, 2),  \n",
    "                                   stop_words='english', \n",
    "                                   token_pattern=\"\\\\b[a-z][a-z]+\\\\b\",\n",
    "                                   lowercase=True,\n",
    "                                   max_df = 0.6)\n",
    "tfidf_data = tfidf_vectorizer.fit_transform(train_data_reviews)\n",
    "lsa_tfidf_data = lsa.fit_transform(tfidf_data)"
   ]
  },
  {
   "cell_type": "code",
   "execution_count": 39,
   "metadata": {},
   "outputs": [],
   "source": [
    "def get_game(names):\n",
    "    #name = \"The Lord of the Rings: The Battle for Middle-Earth\"\n",
    "    games=[]\n",
    "    for name in names:\n",
    "        datas= game_id_df[game_id_df.Title == name]\n",
    "        if not datas.empty:\n",
    "            data_index = game_id_df[game_id_df.Title == name].index[0]\n",
    "            train_data_reviews[data_index]\n",
    "\n",
    "            new_datapoint = [train_data_reviews[data_index]]\n",
    "            new_vec = lsa.transform(tfidf_vectorizer.transform(new_datapoint))\n",
    "\n",
    "            nn = NearestNeighbors(n_neighbors=5, metric='cosine', algorithm='brute')\n",
    "            nn.fit(lsa_tfidf_data)\n",
    "\n",
    "            result = nn.kneighbors(new_vec)\n",
    "\n",
    "            \n",
    "            for r in result[1][0]:\n",
    "                game = game_id_df.Title[r]\n",
    "                if game not in games:\n",
    "                    games.append(game)\n",
    "    return(games)"
   ]
  },
  {
   "cell_type": "code",
   "execution_count": 21,
   "metadata": {},
   "outputs": [
    {
     "name": "stdout",
     "output_type": "stream",
     "text": [
      "['Titanfall 2', 'Battlefield: Bad Company', 'Titanfall', 'Battlefield 3', 'Battlefield: Bad Company 2', 'Battlefield 4']\n"
     ]
    }
   ],
   "source": [
    "gamess = ['Titanfall 2', 'Battlefield: Bad Company','Battlefield 3']\n",
    "get_game(gamess)"
   ]
  },
  {
   "cell_type": "code",
   "execution_count": 40,
   "metadata": {},
   "outputs": [
    {
     "data": {
      "text/plain": [
       "['ARK: Survival Evolved',\n",
       " 'Age of Empires II: HD Edition',\n",
       " 'Age of Empires III',\n",
       " 'Age of Wonders III',\n",
       " 'Alien: Isolation',\n",
       " 'Aliens vs Predator',\n",
       " 'Diablo III',\n",
       " 'Dragon Age: Origins',\n",
       " 'Endless Space',\n",
       " 'Endless Space 2',\n",
       " 'Grand Theft Auto III',\n",
       " 'Heroes of Might and Magic V',\n",
       " 'Life is Strange',\n",
       " 'Minecraft']"
      ]
     },
     "execution_count": 40,
     "metadata": {},
     "output_type": "execute_result"
    }
   ],
   "source": [
    "import requests as req\n",
    "import json \n",
    "\n",
    "with open('jsongames.json') as json_file:\n",
    "    data = json.load(json_file)\n",
    "games_list = []\n",
    "for games in data['games']:\n",
    "    games_list.append(games)\n",
    "games_list\n"
   ]
  },
  {
   "cell_type": "code",
   "execution_count": 41,
   "metadata": {},
   "outputs": [],
   "source": [
    "list_ofgames = get_game(games_list)"
   ]
  },
  {
   "cell_type": "code",
   "execution_count": 45,
   "metadata": {},
   "outputs": [
    {
     "data": {
      "text/plain": [
       "['Age of Empires III',\n",
       " 'Hearts of Iron II',\n",
       " 'Sins of a Solar Empire',\n",
       " 'Empire: Total War',\n",
       " 'Age of Mythology',\n",
       " 'Alien: Isolation',\n",
       " 'Alan Wake',\n",
       " 'Metro Redux',\n",
       " \"Clive Barker's Undying\",\n",
       " \"Peter Jackson's King Kong: The Official Game of the Movie\",\n",
       " 'Diablo III',\n",
       " 'Hex: Shards of Fate',\n",
       " 'Marvel Heroes 2015',\n",
       " 'The Elder Scrolls: Legends',\n",
       " 'Heroes of the Storm',\n",
       " 'Dragon Age: Origins',\n",
       " \"Baldur's Gate II: Shadows of Amn\",\n",
       " 'Dragon Age II',\n",
       " 'Endless Space 2',\n",
       " \"Age of Wonders II: The Wizard's Throne\",\n",
       " 'Galactic Civilizations II: Dread Lords',\n",
       " 'Galactic Civilizations',\n",
       " \"King's Bounty: Armored Princess\",\n",
       " 'Grand Theft Auto III',\n",
       " 'Grand Theft Auto: San Andreas',\n",
       " 'Grand Theft Auto IV',\n",
       " 'Grand Theft Auto: Vice City',\n",
       " 'Life is Strange',\n",
       " 'The Walking Dead: A Telltale Games Series',\n",
       " 'Life is Strange: Episode 5 - Polarized',\n",
       " 'Minecraft',\n",
       " 'Fortnite',\n",
       " 'Minecraft: PlayStation 4 Edition',\n",
       " 'Starbound',\n",
       " 'Minecraft: PlayStation 3 Edition']"
      ]
     },
     "execution_count": 45,
     "metadata": {},
     "output_type": "execute_result"
    }
   ],
   "source": [
    "list_ofgames"
   ]
  },
  {
   "cell_type": "code",
   "execution_count": 57,
   "metadata": {},
   "outputs": [],
   "source": [
    " Final =pd.read_csv('Final.csv', sep=';')"
   ]
  },
  {
   "cell_type": "code",
   "execution_count": 70,
   "metadata": {},
   "outputs": [
    {
     "name": "stdout",
     "output_type": "stream",
     "text": [
      "yes\n"
     ]
    }
   ],
   "source": [
    "if Final['Titile'].str.contains('Age of Empires III').any():\n",
    "    print('yes')"
   ]
  },
  {
   "cell_type": "code",
   "execution_count": 71,
   "metadata": {},
   "outputs": [
    {
     "name": "stdout",
     "output_type": "stream",
     "text": [
      "Age of Empires III\n",
      "Hearts of Iron II\n",
      "Sins of a Solar Empire\n",
      "Empire: Total War\n",
      "Age of Mythology\n",
      "Alien: Isolation\n",
      "Alan Wake\n",
      "Metro Redux\n",
      "Clive Barker's Undying\n",
      "Peter Jackson's King Kong: The Official Game of the Movie\n",
      "Diablo III\n",
      "Hex: Shards of Fate\n",
      "Marvel Heroes 2015\n",
      "The Elder Scrolls: Legends\n",
      "Heroes of the Storm\n",
      "Dragon Age: Origins\n",
      "Baldur's Gate II: Shadows of Amn\n",
      "Dragon Age II\n",
      "Endless Space 2\n",
      "Age of Wonders II: The Wizard's Throne\n",
      "Galactic Civilizations II: Dread Lords\n",
      "Galactic Civilizations\n",
      "King's Bounty: Armored Princess\n",
      "Grand Theft Auto III\n",
      "Grand Theft Auto: San Andreas\n",
      "Grand Theft Auto IV\n",
      "Grand Theft Auto: Vice City\n",
      "Life is Strange\n",
      "The Walking Dead: A Telltale Games Series\n",
      "Life is Strange: Episode 5 - Polarized\n",
      "Minecraft\n",
      "Fortnite\n",
      "Minecraft: PlayStation 4 Edition\n",
      "Starbound\n",
      "Minecraft: PlayStation 3 Edition\n"
     ]
    },
    {
     "data": {
      "text/plain": [
       "['Age of Empires III',\n",
       " 'Hearts of Iron II',\n",
       " 'Empire: Total War',\n",
       " 'Alien: Isolation',\n",
       " 'Alan Wake',\n",
       " 'Metro Redux',\n",
       " 'Diablo III',\n",
       " 'Heroes of the Storm',\n",
       " 'Dragon Age: Origins',\n",
       " \"Baldur's Gate II: Shadows of Amn\",\n",
       " 'Dragon Age II',\n",
       " 'Endless Space 2',\n",
       " 'Grand Theft Auto III',\n",
       " 'Grand Theft Auto: San Andreas',\n",
       " 'Grand Theft Auto IV',\n",
       " 'Grand Theft Auto: Vice City',\n",
       " 'Life is Strange',\n",
       " 'The Walking Dead: A Telltale Games Series',\n",
       " 'Minecraft',\n",
       " 'Fortnite']"
      ]
     },
     "execution_count": 71,
     "metadata": {},
     "output_type": "execute_result"
    }
   ],
   "source": [
    "final_list=[]\n",
    "for games in list_ofgames:\n",
    "    print(games)\n",
    "    if Final['Titile'].str.contains(games).any():\n",
    "        final_list.append(games)\n",
    "final_list"
   ]
  }
 ],
 "metadata": {
  "kernelspec": {
   "display_name": "Python 3",
   "language": "python",
   "name": "python3"
  }
 },
 "nbformat": 4,
 "nbformat_minor": 2
}
