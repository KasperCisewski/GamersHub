{
 "cells": [
  {
   "cell_type": "code",
   "execution_count": 12,
   "metadata": {},
   "outputs": [],
   "source": [
    "import pickle as pkl\n",
    "from sklearn.neighbors import NearestNeighbors\n",
    "from sklearn.decomposition import TruncatedSVD, NMF, LatentDirichletAllocation\n",
    "from sklearn.feature_extraction.text import CountVectorizer, TfidfVectorizer"
   ]
  },
  {
   "cell_type": "code",
   "execution_count": 13,
   "metadata": {},
   "outputs": [],
   "source": [
    "with open('game_id_df.pkl', 'rb') as file:\n",
    "    game_id_df = pkl.load(file)\n",
    "with open('train_data_reviews.pkl', 'rb') as file2:\n",
    "    train_data_reviews = pkl.load(file2)    "
   ]
  },
  {
   "cell_type": "code",
   "execution_count": 14,
   "metadata": {},
   "outputs": [],
   "source": [
    "n_comp = 20\n",
    "lsa = TruncatedSVD(n_components=n_comp)\n"
   ]
  },
  {
   "cell_type": "code",
   "execution_count": 15,
   "metadata": {},
   "outputs": [],
   "source": [
    "tfidf_vectorizer = TfidfVectorizer(ngram_range=(1, 2),  \n",
    "                                   stop_words='english', \n",
    "                                   token_pattern=\"\\\\b[a-z][a-z]+\\\\b\",\n",
    "                                   lowercase=True,\n",
    "                                   max_df = 0.6)\n",
    "tfidf_data = tfidf_vectorizer.fit_transform(train_data_reviews)\n",
    "lsa_tfidf_data = lsa.fit_transform(tfidf_data)"
   ]
  },
  {
   "cell_type": "code",
   "execution_count": 16,
   "metadata": {},
   "outputs": [],
   "source": [
    "def get_game(names):\n",
    "    #name = \"The Lord of the Rings: The Battle for Middle-Earth\"\n",
    "    games=[]\n",
    "    for name in names:\n",
    "        datas= game_id_df[game_id_df.Title == name]\n",
    "        if not datas.empty:\n",
    "            data_index = game_id_df[game_id_df.Title == name].index[0]\n",
    "            train_data_reviews[data_index]\n",
    "\n",
    "            new_datapoint = [train_data_reviews[data_index]]\n",
    "            new_vec = lsa.transform(tfidf_vectorizer.transform(new_datapoint))\n",
    "\n",
    "            nn = NearestNeighbors(n_neighbors=5, metric='cosine', algorithm='brute')\n",
    "            nn.fit(lsa_tfidf_data)\n",
    "\n",
    "            result = nn.kneighbors(new_vec)\n",
    "\n",
    "            \n",
    "            for r in result[1][0]:\n",
    "                game = game_id_df.Title[r]\n",
    "                if game not in games:\n",
    "                    games.append(game)\n",
    "    print(games)"
   ]
  },
  {
   "cell_type": "code",
   "execution_count": 21,
   "metadata": {},
   "outputs": [
    {
     "name": "stdout",
     "output_type": "stream",
     "text": [
      "['Titanfall 2', 'Battlefield: Bad Company', 'Titanfall', 'Battlefield 3', 'Battlefield: Bad Company 2', 'Battlefield 4']\n"
     ]
    }
   ],
   "source": [
    "gamess = ['Titanfall 2', 'Battlefield: Bad Company','Battlefield 3']\n",
    "get_game(gamess)"
   ]
  },
  {
   "cell_type": "code",
   "execution_count": 30,
   "metadata": {},
   "outputs": [
    {
     "name": "stdout",
     "output_type": "stream",
     "text": [
      "['Age of Empires III', 'Hearts of Iron II', 'Sins of a Solar Empire', 'Empire: Total War', 'Age of Mythology', 'Alien: Isolation', 'Alan Wake', 'Metro Redux', \"Clive Barker's Undying\", \"Peter Jackson's King Kong: The Official Game of the Movie\", 'Diablo III', 'Hex: Shards of Fate', 'Marvel Heroes 2015', 'The Elder Scrolls: Legends', 'Heroes of the Storm', 'Dragon Age: Origins', \"Baldur's Gate II: Shadows of Amn\", 'Dragon Age II', 'Endless Space 2', \"Age of Wonders II: The Wizard's Throne\", 'Galactic Civilizations II: Dread Lords', 'Galactic Civilizations', \"King's Bounty: Armored Princess\", 'Grand Theft Auto III', 'Grand Theft Auto: San Andreas', 'Grand Theft Auto IV', 'Grand Theft Auto: Vice City', 'Life is Strange', 'The Walking Dead: A Telltale Games Series', 'Life is Strange: Episode 5 - Polarized', 'Minecraft', 'Fortnite', 'Minecraft: PlayStation 4 Edition', 'Starbound', 'Minecraft: PlayStation 3 Edition']\n"
     ]
    }
   ],
   "source": [
    "import requests as req\n",
    "import json \n",
    "\n",
    "with open('jsongames.json') as json_file:\n",
    "    data = json.load(json_file)\n",
    "games_list = []\n",
    "for games in data['games']:\n",
    "    games_list.append(games)\n",
    "games_list\n",
    "get_game(games_list)"
   ]
  },
  {
   "cell_type": "code",
   "execution_count": 28,
   "metadata": {},
   "outputs": [
    {
     "data": {
      "text/plain": [
       "{'games': ['ARK: Survival Evolved',\n",
       "  'Age of Empires II: HD Edition',\n",
       "  'Age of Empires III',\n",
       "  'Age of Wonders III',\n",
       "  'Alien: Isolation',\n",
       "  'Aliens vs Predator',\n",
       "  'Diablo III',\n",
       "  'Dragon Age: Origins',\n",
       "  'Endless Space',\n",
       "  'Endless Space 2',\n",
       "  'Grand Theft Auto III',\n",
       "  'Heroes of Might and Magic V',\n",
       "  'Life is Strange',\n",
       "  'Minecraft']}"
      ]
     },
     "execution_count": 28,
     "metadata": {},
     "output_type": "execute_result"
    }
   ],
   "source": [
    "data"
   ]
  },
  {
   "cell_type": "code",
   "execution_count": null,
   "metadata": {},
   "outputs": [],
   "source": []
  }
 ],
 "metadata": {
  "kernelspec": {
   "display_name": "Python 3",
   "language": "python",
   "name": "python3"
  }
 },
 "nbformat": 4,
 "nbformat_minor": 2
}
