{
 "cells": [
  {
   "cell_type": "code",
   "execution_count": 1,
   "metadata": {},
   "outputs": [],
   "source": [
    "import pickle as pkl\n",
    "from sklearn.neighbors import NearestNeighbors\n",
    "from sklearn.decomposition import TruncatedSVD, NMF, LatentDirichletAllocation\n",
    "from sklearn.feature_extraction.text import CountVectorizer, TfidfVectorizer"
   ]
  },
  {
   "cell_type": "code",
   "execution_count": 2,
   "metadata": {},
   "outputs": [],
   "source": [
    "with open('game_id_df.pkl', 'rb') as file:\n",
    "    game_id_df = pkl.load(file)\n",
    "with open('train_data_reviews.pkl', 'rb') as file2:\n",
    "    train_data_reviews = pkl.load(file2)    "
   ]
  },
  {
   "cell_type": "code",
   "execution_count": 3,
   "metadata": {},
   "outputs": [
    {
     "ename": "NameError",
     "evalue": "name 'tfidf_data' is not defined",
     "output_type": "error",
     "traceback": [
      "\u001b[1;31m---------------------------------------------------------------------------\u001b[0m",
      "\u001b[1;31mNameError\u001b[0m                                 Traceback (most recent call last)",
      "\u001b[1;32m<ipython-input-3-d702e884ebda>\u001b[0m in \u001b[0;36m<module>\u001b[1;34m\u001b[0m\n\u001b[0;32m      1\u001b[0m \u001b[0mn_comp\u001b[0m \u001b[1;33m=\u001b[0m \u001b[1;36m20\u001b[0m\u001b[1;33m\u001b[0m\u001b[1;33m\u001b[0m\u001b[0m\n\u001b[0;32m      2\u001b[0m \u001b[0mlsa\u001b[0m \u001b[1;33m=\u001b[0m \u001b[0mTruncatedSVD\u001b[0m\u001b[1;33m(\u001b[0m\u001b[0mn_components\u001b[0m\u001b[1;33m=\u001b[0m\u001b[0mn_comp\u001b[0m\u001b[1;33m)\u001b[0m\u001b[1;33m\u001b[0m\u001b[1;33m\u001b[0m\u001b[0m\n\u001b[1;32m----> 3\u001b[1;33m \u001b[0mlsa_tfidf_data\u001b[0m \u001b[1;33m=\u001b[0m \u001b[0mlsa\u001b[0m\u001b[1;33m.\u001b[0m\u001b[0mfit_transform\u001b[0m\u001b[1;33m(\u001b[0m\u001b[0mtfidf_data\u001b[0m\u001b[1;33m)\u001b[0m\u001b[1;33m\u001b[0m\u001b[1;33m\u001b[0m\u001b[0m\n\u001b[0m",
      "\u001b[1;31mNameError\u001b[0m: name 'tfidf_data' is not defined"
     ]
    }
   ],
   "source": [
    "n_comp = 20\n",
    "lsa = TruncatedSVD(n_components=n_comp)\n",
    "lsa_tfidf_data = lsa.fit_transform(tfidf_data)"
   ]
  },
  {
   "cell_type": "code",
   "execution_count": null,
   "metadata": {},
   "outputs": [],
   "source": [
    "tfidf_vectorizer = TfidfVectorizer(ngram_range=(1, 2),  \n",
    "                                   stop_words='english', \n",
    "                                   token_pattern=\"\\\\b[a-z][a-z]+\\\\b\",\n",
    "                                   lowercase=True,\n",
    "                                   max_df = 0.6)\n",
    "tfidf_data = tfidf_vectorizer.fit_transform(train_data_reviews)"
   ]
  },
  {
   "cell_type": "code",
   "execution_count": null,
   "metadata": {},
   "outputs": [],
   "source": [
    "def get_game(names):\n",
    "    #name = \"The Lord of the Rings: The Battle for Middle-Earth\"\n",
    "    games=[]\n",
    "    for name in names:\n",
    "        datas= game_id_df[game_id_df.Title == name]\n",
    "        if not datas.empty:\n",
    "            data_index = game_id_df[game_id_df.Title == name].index[0]\n",
    "            train_data_reviews[data_index]\n",
    "\n",
    "            new_datapoint = [train_data_reviews[data_index]]\n",
    "            new_vec = lsa.transform(tfidf_vectorizer.transform(new_datapoint))\n",
    "\n",
    "            nn = NearestNeighbors(n_neighbors=5, metric='cosine', algorithm='brute')\n",
    "            nn.fit(lsa_tfidf_data)\n",
    "\n",
    "            result = nn.kneighbors(new_vec)\n",
    "\n",
    "            \n",
    "            for r in result[1][0]:\n",
    "                game = game_id_df.Title[r]\n",
    "                if game not in games:\n",
    "                    games.append(game)\n",
    "    print(games)"
   ]
  },
  {
   "cell_type": "code",
   "execution_count": null,
   "metadata": {},
   "outputs": [],
   "source": [
    "gamess = ['Titanfall 2', 'Battlefield: Bad Company']"
   ]
  },
  {
   "cell_type": "code",
   "execution_count": null,
   "metadata": {},
   "outputs": [],
   "source": [
    "\n",
    "get_game(gamess)"
   ]
  }
 ],
 "metadata": {
  "kernelspec": {
   "display_name": "Python 3",
   "language": "python",
   "name": "python3"
  }
 },
 "nbformat": 4,
 "nbformat_minor": 2
}
